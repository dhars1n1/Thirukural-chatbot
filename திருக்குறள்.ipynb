{
  "nbformat": 4,
  "nbformat_minor": 0,
  "metadata": {
    "colab": {
      "provenance": [],
      "authorship_tag": "ABX9TyO+fcyQpnguvKzBvw0kOuPA",
      "include_colab_link": true
    },
    "kernelspec": {
      "name": "python3",
      "display_name": "Python 3"
    },
    "language_info": {
      "name": "python"
    }
  },
  "cells": [
    {
      "cell_type": "markdown",
      "metadata": {
        "id": "view-in-github",
        "colab_type": "text"
      },
      "source": [
        "<a href=\"https://colab.research.google.com/github/dhars1n1/Thirukural-chatbot/blob/main/%E0%AE%A4%E0%AE%BF%E0%AE%B0%E0%AF%81%E0%AE%95%E0%AF%8D%E0%AE%95%E0%AF%81%E0%AE%B1%E0%AE%B3%E0%AF%8D.ipynb\" target=\"_parent\"><img src=\"https://colab.research.google.com/assets/colab-badge.svg\" alt=\"Open In Colab\"/></a>"
      ]
    },
    {
      "cell_type": "markdown",
      "source": [
        "1. Our intention is to create a thirukural chatbot\n",
        "2. To do so, we need to perform vector retrieval\n",
        "3. to do vector retrival we need to represent our text data as embeddings using some transformer based model"
      ],
      "metadata": {
        "id": "ziBHwB8ixjzb"
      }
    },
    {
      "cell_type": "markdown",
      "source": [
        "LOAD JSON DATA"
      ],
      "metadata": {
        "id": "1sA14KPO34bf"
      }
    },
    {
      "cell_type": "code",
      "execution_count": null,
      "metadata": {
        "colab": {
          "base_uri": "https://localhost:8080/"
        },
        "id": "eGcfEU8Ixctr",
        "outputId": "588a3869-4ef2-413c-f3af-be706f98b38e"
      },
      "outputs": [
        {
          "output_type": "stream",
          "name": "stdout",
          "text": [
            "Thirukural loaded successfully\n",
            "Meta information loaded successfully\n",
            "1330\n"
          ]
        }
      ],
      "source": [
        "import json\n",
        "\n",
        "# Path to your JSON file\n",
        "thirukkural_data = \"thirukkural.json\"\n",
        "\n",
        "# Load JSON data from file\n",
        "with open(thirukkural_data, \"r\", encoding=\"utf-8\") as f:\n",
        "    data = json.load(f)\n",
        "print(\"Thirukural loaded successfully\")\n",
        "\n",
        "# Path to your JSON file\n",
        "meta_file_path = \"detail.json\"\n",
        "\n",
        "# Load JSON data from file\n",
        "with open(thirukkural_data, \"r\", encoding=\"utf-8\") as f:\n",
        "    meta_data = json.load(f)\n",
        "print(\"Meta information loaded successfully\")\n",
        "meta_data=meta_data['kural']\n",
        "print(len(meta_data))"
      ]
    },
    {
      "cell_type": "code",
      "source": [
        "kural_translation = []  # List to store kural translation\n",
        "\n",
        "for kural_dict in data[\"kural\"]:\n",
        "    kural_text = f\"{kural_dict['Translation']}\"  #kural translations    }\n",
        "    kural_translation.append(kural_text)\n",
        "print(len(kural_translation))\n",
        "\n"
      ],
      "metadata": {
        "colab": {
          "base_uri": "https://localhost:8080/"
        },
        "id": "UOF3NZcQ6iHW",
        "outputId": "8d26cc67-18f3-4090-9041-012ec3e09ba3"
      },
      "execution_count": null,
      "outputs": [
        {
          "output_type": "stream",
          "name": "stdout",
          "text": [
            "1330\n"
          ]
        }
      ]
    },
    {
      "cell_type": "code",
      "source": [
        "print(type(kural_translation[0]))"
      ],
      "metadata": {
        "colab": {
          "base_uri": "https://localhost:8080/"
        },
        "id": "KdV0JDjQ3_Hp",
        "outputId": "b8cb0c26-a4e7-43bf-82f5-dbffde45384a"
      },
      "execution_count": null,
      "outputs": [
        {
          "output_type": "stream",
          "name": "stdout",
          "text": [
            "<class 'str'>\n"
          ]
        }
      ]
    },
    {
      "cell_type": "markdown",
      "source": [
        "4. we need the dimension and a distance function (dot prod possibly) to find the similarity between vectors  \n",
        "5. namma implementation la enna panna porom naa pinecone ah api key vechu initialize pannanum"
      ],
      "metadata": {
        "id": "4L5DndpexzI4"
      }
    },
    {
      "cell_type": "code",
      "source": [
        "!pip install -U sentence-transformers"
      ],
      "metadata": {
        "id": "X3221t-bx_2D",
        "colab": {
          "base_uri": "https://localhost:8080/"
        },
        "outputId": "31da52b4-4cfb-4cd8-b374-37d51e424e1e",
        "collapsed": true
      },
      "execution_count": null,
      "outputs": [
        {
          "output_type": "stream",
          "name": "stdout",
          "text": [
            "Requirement already satisfied: sentence-transformers in /usr/local/lib/python3.10/dist-packages (3.0.1)\n",
            "Requirement already satisfied: transformers<5.0.0,>=4.34.0 in /usr/local/lib/python3.10/dist-packages (from sentence-transformers) (4.41.2)\n",
            "Requirement already satisfied: tqdm in /usr/local/lib/python3.10/dist-packages (from sentence-transformers) (4.66.4)\n",
            "Requirement already satisfied: torch>=1.11.0 in /usr/local/lib/python3.10/dist-packages (from sentence-transformers) (2.3.0+cu121)\n",
            "Requirement already satisfied: numpy in /usr/local/lib/python3.10/dist-packages (from sentence-transformers) (1.25.2)\n",
            "Requirement already satisfied: scikit-learn in /usr/local/lib/python3.10/dist-packages (from sentence-transformers) (1.2.2)\n",
            "Requirement already satisfied: scipy in /usr/local/lib/python3.10/dist-packages (from sentence-transformers) (1.11.4)\n",
            "Requirement already satisfied: huggingface-hub>=0.15.1 in /usr/local/lib/python3.10/dist-packages (from sentence-transformers) (0.23.4)\n",
            "Requirement already satisfied: Pillow in /usr/local/lib/python3.10/dist-packages (from sentence-transformers) (9.4.0)\n",
            "Requirement already satisfied: filelock in /usr/local/lib/python3.10/dist-packages (from huggingface-hub>=0.15.1->sentence-transformers) (3.15.1)\n",
            "Requirement already satisfied: fsspec>=2023.5.0 in /usr/local/lib/python3.10/dist-packages (from huggingface-hub>=0.15.1->sentence-transformers) (2023.6.0)\n",
            "Requirement already satisfied: packaging>=20.9 in /usr/local/lib/python3.10/dist-packages (from huggingface-hub>=0.15.1->sentence-transformers) (24.1)\n",
            "Requirement already satisfied: pyyaml>=5.1 in /usr/local/lib/python3.10/dist-packages (from huggingface-hub>=0.15.1->sentence-transformers) (6.0.1)\n",
            "Requirement already satisfied: requests in /usr/local/lib/python3.10/dist-packages (from huggingface-hub>=0.15.1->sentence-transformers) (2.31.0)\n",
            "Requirement already satisfied: typing-extensions>=3.7.4.3 in /usr/local/lib/python3.10/dist-packages (from huggingface-hub>=0.15.1->sentence-transformers) (4.12.2)\n",
            "Requirement already satisfied: sympy in /usr/local/lib/python3.10/dist-packages (from torch>=1.11.0->sentence-transformers) (1.12.1)\n",
            "Requirement already satisfied: networkx in /usr/local/lib/python3.10/dist-packages (from torch>=1.11.0->sentence-transformers) (3.3)\n",
            "Requirement already satisfied: jinja2 in /usr/local/lib/python3.10/dist-packages (from torch>=1.11.0->sentence-transformers) (3.1.4)\n",
            "Requirement already satisfied: nvidia-cuda-nvrtc-cu12==12.1.105 in /usr/local/lib/python3.10/dist-packages (from torch>=1.11.0->sentence-transformers) (12.1.105)\n",
            "Requirement already satisfied: nvidia-cuda-runtime-cu12==12.1.105 in /usr/local/lib/python3.10/dist-packages (from torch>=1.11.0->sentence-transformers) (12.1.105)\n",
            "Requirement already satisfied: nvidia-cuda-cupti-cu12==12.1.105 in /usr/local/lib/python3.10/dist-packages (from torch>=1.11.0->sentence-transformers) (12.1.105)\n",
            "Requirement already satisfied: nvidia-cudnn-cu12==8.9.2.26 in /usr/local/lib/python3.10/dist-packages (from torch>=1.11.0->sentence-transformers) (8.9.2.26)\n",
            "Requirement already satisfied: nvidia-cublas-cu12==12.1.3.1 in /usr/local/lib/python3.10/dist-packages (from torch>=1.11.0->sentence-transformers) (12.1.3.1)\n",
            "Requirement already satisfied: nvidia-cufft-cu12==11.0.2.54 in /usr/local/lib/python3.10/dist-packages (from torch>=1.11.0->sentence-transformers) (11.0.2.54)\n",
            "Requirement already satisfied: nvidia-curand-cu12==10.3.2.106 in /usr/local/lib/python3.10/dist-packages (from torch>=1.11.0->sentence-transformers) (10.3.2.106)\n",
            "Requirement already satisfied: nvidia-cusolver-cu12==11.4.5.107 in /usr/local/lib/python3.10/dist-packages (from torch>=1.11.0->sentence-transformers) (11.4.5.107)\n",
            "Requirement already satisfied: nvidia-cusparse-cu12==12.1.0.106 in /usr/local/lib/python3.10/dist-packages (from torch>=1.11.0->sentence-transformers) (12.1.0.106)\n",
            "Requirement already satisfied: nvidia-nccl-cu12==2.20.5 in /usr/local/lib/python3.10/dist-packages (from torch>=1.11.0->sentence-transformers) (2.20.5)\n",
            "Requirement already satisfied: nvidia-nvtx-cu12==12.1.105 in /usr/local/lib/python3.10/dist-packages (from torch>=1.11.0->sentence-transformers) (12.1.105)\n",
            "Requirement already satisfied: triton==2.3.0 in /usr/local/lib/python3.10/dist-packages (from torch>=1.11.0->sentence-transformers) (2.3.0)\n",
            "Requirement already satisfied: nvidia-nvjitlink-cu12 in /usr/local/lib/python3.10/dist-packages (from nvidia-cusolver-cu12==11.4.5.107->torch>=1.11.0->sentence-transformers) (12.5.40)\n",
            "Requirement already satisfied: regex!=2019.12.17 in /usr/local/lib/python3.10/dist-packages (from transformers<5.0.0,>=4.34.0->sentence-transformers) (2024.5.15)\n",
            "Requirement already satisfied: tokenizers<0.20,>=0.19 in /usr/local/lib/python3.10/dist-packages (from transformers<5.0.0,>=4.34.0->sentence-transformers) (0.19.1)\n",
            "Requirement already satisfied: safetensors>=0.4.1 in /usr/local/lib/python3.10/dist-packages (from transformers<5.0.0,>=4.34.0->sentence-transformers) (0.4.3)\n",
            "Requirement already satisfied: joblib>=1.1.1 in /usr/local/lib/python3.10/dist-packages (from scikit-learn->sentence-transformers) (1.4.2)\n",
            "Requirement already satisfied: threadpoolctl>=2.0.0 in /usr/local/lib/python3.10/dist-packages (from scikit-learn->sentence-transformers) (3.5.0)\n",
            "Requirement already satisfied: MarkupSafe>=2.0 in /usr/local/lib/python3.10/dist-packages (from jinja2->torch>=1.11.0->sentence-transformers) (2.1.5)\n",
            "Requirement already satisfied: charset-normalizer<4,>=2 in /usr/local/lib/python3.10/dist-packages (from requests->huggingface-hub>=0.15.1->sentence-transformers) (3.3.2)\n",
            "Requirement already satisfied: idna<4,>=2.5 in /usr/local/lib/python3.10/dist-packages (from requests->huggingface-hub>=0.15.1->sentence-transformers) (3.7)\n",
            "Requirement already satisfied: urllib3<3,>=1.21.1 in /usr/local/lib/python3.10/dist-packages (from requests->huggingface-hub>=0.15.1->sentence-transformers) (2.0.7)\n",
            "Requirement already satisfied: certifi>=2017.4.17 in /usr/local/lib/python3.10/dist-packages (from requests->huggingface-hub>=0.15.1->sentence-transformers) (2024.6.2)\n",
            "Requirement already satisfied: mpmath<1.4.0,>=1.1.0 in /usr/local/lib/python3.10/dist-packages (from sympy->torch>=1.11.0->sentence-transformers) (1.3.0)\n"
          ]
        }
      ]
    },
    {
      "cell_type": "code",
      "source": [
        "from sentence_transformers import SentenceTransformer\n",
        "\n",
        "# Download model\n",
        "model = SentenceTransformer('all-MiniLM-L6-v2')\n",
        "\n",
        "# Get embeddings of sentences\n",
        "embeddings = model.encode(kural_translation)\n",
        "\n",
        "print(len(embeddings))\n"
      ],
      "metadata": {
        "colab": {
          "base_uri": "https://localhost:8080/"
        },
        "id": "atV5wD0qHSFK",
        "outputId": "df31f4f1-7dc6-425e-84a7-7490ef30412d",
        "collapsed": true
      },
      "execution_count": null,
      "outputs": [
        {
          "output_type": "stream",
          "name": "stderr",
          "text": [
            "/usr/local/lib/python3.10/dist-packages/huggingface_hub/file_download.py:1132: FutureWarning: `resume_download` is deprecated and will be removed in version 1.0.0. Downloads always resume when possible. If you want to force a new download, use `force_download=True`.\n",
            "  warnings.warn(\n"
          ]
        },
        {
          "output_type": "stream",
          "name": "stdout",
          "text": [
            "1330\n"
          ]
        }
      ]
    },
    {
      "cell_type": "code",
      "source": [
        "print(len(kural_translation))\n",
        "print(len(embeddings[0]))"
      ],
      "metadata": {
        "colab": {
          "base_uri": "https://localhost:8080/"
        },
        "id": "bhhrlkEX0YHt",
        "outputId": "00c66b97-45fd-40e9-b9ce-60e8dae79dfd"
      },
      "execution_count": null,
      "outputs": [
        {
          "output_type": "stream",
          "name": "stdout",
          "text": [
            "1330\n",
            "384\n"
          ]
        }
      ]
    },
    {
      "cell_type": "markdown",
      "source": [
        "colab la oru vector index create panni adhula en thirukural data va ellam vectors ah store panni veka porom"
      ],
      "metadata": {
        "id": "BuSxPsWNyBm_"
      }
    },
    {
      "cell_type": "code",
      "source": [
        "!pip install pinecone-client"
      ],
      "metadata": {
        "id": "PX25ULTj0Eap",
        "colab": {
          "base_uri": "https://localhost:8080/"
        },
        "outputId": "c9b4260d-c0c0-4827-c116-86072d0ad37c",
        "collapsed": true
      },
      "execution_count": null,
      "outputs": [
        {
          "output_type": "stream",
          "name": "stdout",
          "text": [
            "Requirement already satisfied: pinecone-client in /usr/local/lib/python3.10/dist-packages (4.1.1)\n",
            "Requirement already satisfied: certifi>=2019.11.17 in /usr/local/lib/python3.10/dist-packages (from pinecone-client) (2024.6.2)\n",
            "Requirement already satisfied: pinecone-plugin-interface<0.0.8,>=0.0.7 in /usr/local/lib/python3.10/dist-packages (from pinecone-client) (0.0.7)\n",
            "Requirement already satisfied: tqdm>=4.64.1 in /usr/local/lib/python3.10/dist-packages (from pinecone-client) (4.66.4)\n",
            "Requirement already satisfied: typing-extensions>=3.7.4 in /usr/local/lib/python3.10/dist-packages (from pinecone-client) (4.12.2)\n",
            "Requirement already satisfied: urllib3>=1.26.0 in /usr/local/lib/python3.10/dist-packages (from pinecone-client) (2.0.7)\n"
          ]
        }
      ]
    },
    {
      "cell_type": "code",
      "source": [
        "import os\n",
        "from pinecone import Pinecone, ServerlessSpec\n",
        "\n",
        "api_key = \"8826f026-a047-467a-959c-31e9344822ab\"\n",
        "\n",
        "pc = Pinecone(api_key=api_key)\n",
        "index_name = 'myindex'\n",
        "\n",
        "# Check if the index exists\n",
        "if index_name in pc.list_indexes().names():\n",
        "    # Delete the existing index\n",
        "    pc.delete_index(index_name)\n",
        "if 'myindex' not in pc.list_indexes().names():\n",
        "    pc.create_index( name='myindex', dimension=384,spec=ServerlessSpec(cloud='aws',region='us-east-1'))\n",
        "\n"
      ],
      "metadata": {
        "id": "ywuR_oY9yGEQ"
      },
      "execution_count": null,
      "outputs": []
    },
    {
      "cell_type": "code",
      "source": [
        "import random\n",
        "import itertools\n",
        "\n",
        "vector_dim=384\n",
        "vector_count=1330\n",
        "\n",
        "# Generate a list of strings from \"1\" to \"1330\"\n",
        "ids = [str(i) for i in range(1, 1331)]\n",
        "\n",
        "\n",
        "#function to handle chunking of pairs\n",
        "def chunks(iterable,batch_size=100):\n",
        "  it = iter(iterable)\n",
        "  chunk = tuple(itertools.islice(it, batch_size))\n",
        "  while chunk:\n",
        "    yield chunk\n",
        "    chunk = tuple(itertools.islice(it, batch_size))\n",
        "\n"
      ],
      "metadata": {
        "id": "-yn1VYasO3bq"
      },
      "execution_count": null,
      "outputs": []
    },
    {
      "cell_type": "code",
      "source": [
        "print(len(ids))"
      ],
      "metadata": {
        "colab": {
          "base_uri": "https://localhost:8080/"
        },
        "id": "LkDiH0StvOZB",
        "outputId": "cd5ab7c6-dd81-4b19-f96d-0e4c3dc38d20"
      },
      "execution_count": null,
      "outputs": [
        {
          "output_type": "stream",
          "name": "stdout",
          "text": [
            "1330\n"
          ]
        }
      ]
    },
    {
      "cell_type": "markdown",
      "source": [
        "7. adhuku aprom querying panni search panlam andha index kulla irukra vector form la irukra data vaa\n",
        "9. aprom namma andha Kural and adhoda meta info vaa display panikalaam"
      ],
      "metadata": {
        "id": "Ck8JKrw6yJFN"
      }
    },
    {
      "cell_type": "code",
      "source": [
        "index = pc.Index('myindex', dimension=vector_dim)\n",
        "# for i in range(len(ids)):\n",
        "\n",
        "#   final_data = map(lambda id, embedding: (id, embedding), ids, embeddings)\n",
        "#   final_data=map(final_data,meta_data[i])\n",
        "#   final_data=list(final_data)\n",
        "\n",
        "final_data = []\n",
        "for i in range(len(ids)):\n",
        "    vector = {\"id\": ids[i], \"values\": embeddings[i], \"metadata\": meta_data[i]}\n",
        "    final_data.append(vector)\n",
        "#print(final_data[1])\n",
        "for chunk in chunks(final_data,batch_size=100):\n",
        "  index.upsert(vectors=chunk)\n",
        "index.describe_index_stats()"
      ],
      "metadata": {
        "id": "RTDZ0doPSfF0",
        "colab": {
          "base_uri": "https://localhost:8080/"
        },
        "outputId": "ce052032-e53c-41e4-d20f-abc0a52aaf00"
      },
      "execution_count": null,
      "outputs": [
        {
          "output_type": "execute_result",
          "data": {
            "text/plain": [
              "{'dimension': 384,\n",
              " 'index_fullness': 0.0,\n",
              " 'namespaces': {'': {'vector_count': 1300}},\n",
              " 'total_vector_count': 1300}"
            ]
          },
          "metadata": {},
          "execution_count": 59
        }
      ]
    },
    {
      "cell_type": "code",
      "source": [
        "import numpy as np"
      ],
      "metadata": {
        "id": "9WffQEHN1IyA"
      },
      "execution_count": null,
      "outputs": []
    },
    {
      "cell_type": "code",
      "source": [
        "# vector dimension 384 - convert the given word or sentence into a vector of dimension 384 for querying\n",
        "\n",
        "\n",
        "# Example sentence\n",
        "sentence =\"im doubtful\"\n",
        "\n",
        "# Convert the sentence into a vector\n",
        "sentence_vector = (model.encode(sentence)).tolist()\n",
        "\n",
        "\n",
        "index.query(vector=sentence_vector, top_k=3, include_metadata=True)\n",
        "\n"
      ],
      "metadata": {
        "colab": {
          "base_uri": "https://localhost:8080/"
        },
        "id": "bOlcpS4HW_j2",
        "outputId": "3d1dc5de-7169-499b-f4cb-6f3966c7b151"
      },
      "execution_count": null,
      "outputs": [
        {
          "output_type": "execute_result",
          "data": {
            "text/plain": [
              "{'matches': [{'id': '190',\n",
              "              'metadata': {'Line1': 'ஏதிலார் குற்றம்போல் தங்குற்றங் '\n",
              "                                    'காண்கிற்பின்',\n",
              "                           'Line2': 'தீதுண்டோ மன்னும் உயிர்க்கு.',\n",
              "                           'Number': 190.0,\n",
              "                           'Translation': 'No harm would fall to any man  If '\n",
              "                                          'each his own defect could scan',\n",
              "                           'couplet': \"If each his own, as neighbours' faults \"\n",
              "                                      'would scan,Could any evil hap to living '\n",
              "                                      'man',\n",
              "                           'explanation': 'If they observed their own faults '\n",
              "                                          'as they observe the faults of '\n",
              "                                          'others, would any evil happen to '\n",
              "                                          'men ?',\n",
              "                           'mk': 'பிறர் குற்றத்தைக் காண்பவர்கள் தமது '\n",
              "                                 'குற்றத்தையும் எண்ணிப் பார்ப்பார்களேயானால் '\n",
              "                                 'புறங்கூறும் பழக்கமும் போகும்; வாழ்க்கையும் '\n",
              "                                 'நிம்மதியாக அமையும்',\n",
              "                           'mv': 'அயலாருடைய குற்றத்தைக் காண்பது போல் தம் '\n",
              "                                 'குற்றத்தையும் காண வல்லவரானால், நிலைபெற்ற '\n",
              "                                 'உயிர் வாழ்க்கைக்குத் துன்பம் உண்ட\\u200cோ?',\n",
              "                           'sp': 'புறம்பேச அடுத்தவர் குற்றத்தைப் பார்ப்பவர், '\n",
              "                                 'பேசும் தம் குற்றத்தையும் எண்ணினால், நிலைத்து '\n",
              "                                 'இருக்கும் உயிர்க்குத் துன்பமும் வருமோ?',\n",
              "                           'transliteration1': 'Edhilaar Kutrampol Thangutrang '\n",
              "                                               'Kaankirpin',\n",
              "                           'transliteration2': 'Theedhunto Mannum Uyirkku'},\n",
              "              'score': 0.267264128,\n",
              "              'values': []},\n",
              "             {'id': '1141',\n",
              "              'metadata': {'Line1': 'அலரெழ ஆருயிர் நிற்கும் அதனைப்',\n",
              "                           'Line2': 'பலரறியார் பாக்கியத் தால்.',\n",
              "                           'Number': 1141.0,\n",
              "                           'Translation': 'Rumour sustains my existence Good '\n",
              "                                          'luck! many know not its sense',\n",
              "                           'couplet': \"By this same rumour's rise, my precious \"\n",
              "                                      'life stands fast;Good fortune grant the '\n",
              "                                      'many know this not',\n",
              "                           'explanation': 'My precious life is saved by the '\n",
              "                                          'raise of rumour, and this, to my '\n",
              "                                          'good luck no others are aware of',\n",
              "                           'mk': 'எம் காதலைப் பற்றிப் பழிதூற்றிப் பேசுவதால் '\n",
              "                                 'அதுவே எம் காதல் கைகூட வாய்ப்பாக அமையும் என்ற '\n",
              "                                 'நம்பிக்கையில் எம் உயிர் போகாமல் இருக்கிறது '\n",
              "                                 'என்பதை ஊரார் அறிய மாட்டார்கள்',\n",
              "                           'mv': '(எம் காதலைப் பற்றி) அலர் எழுவதால் அறிய உயிர் '\n",
              "                                 'போகாமல் நிற்கின்றது, எம் நல்வினைப் பயனால் '\n",
              "                                 'பலரும் அறியாமலிருக்கின்றனர்.',\n",
              "                           'sp': 'ஊருக்குள் பலர் எங்கள் காதலைப் பற்றிப் '\n",
              "                                 'பேசுவதால்தான் அவளை இன்னும் பெறாத என் உயிரும் '\n",
              "                                 'நிலைத்து இருக்கிறது; பேசும் பலரும் இதை '\n",
              "                                 'அறியமாட்டார்; இது நான் செய்த பாக்யம்.',\n",
              "                           'transliteration1': 'Alarezha Aaruyir Na�rkum '\n",
              "                                               'Adhanaip',\n",
              "                           'transliteration2': 'Palarariyaar Paakkiyath Thaal'},\n",
              "              'score': 0.264885813,\n",
              "              'values': []},\n",
              "             {'id': '932',\n",
              "              'metadata': {'Line1': 'ஒன்றெய்தி நூறிழக்கும் சூதர்க்கும் '\n",
              "                                    'உண்டாங்கொல்',\n",
              "                           'Line2': 'நன்றெய்தி வாழ்வதோர் ஆறு.',\n",
              "                           'Number': 932.0,\n",
              "                           'Translation': 'Can gamblers in life good obtain '\n",
              "                                          'Who lose a hundred one to gain?',\n",
              "                           'couplet': 'Is there for gamblers, too, that '\n",
              "                                      'gaining one a hundred lose, some '\n",
              "                                      'wayThat they may good obtain, and see a '\n",
              "                                      'prosperous day',\n",
              "                           'explanation': 'That they may good obtain, and see '\n",
              "                                          'a prosperous day? Is there indeed a '\n",
              "                                          'means of livelihood that can bestow '\n",
              "                                          'happiness on gamblers who gain one '\n",
              "                                          'and lose a hundred?',\n",
              "                           'mk': 'ஒரு வெற்றியைப் பெற்ற மகிழ்ச்சியில் தொடர்ந்து '\n",
              "                                 'ஆடி நூறு தோல்விகளைத் தழுவிக்கொள்ளும் '\n",
              "                                 'சூதாடிகளின் வாழ்க்கையில் நலம் ஏற்பட வழி ஏது?',\n",
              "                           'mv': 'ஒரு பொருள் பெற்று நூறு மடங்கு பொருளை இழந்து '\n",
              "                                 'விடும் சூதாடிகளுக்கும், நன்மை பெற்று வாழும் '\n",
              "                                 'ஒரு வழி உண்டோ.',\n",
              "                           'sp': 'ஒன்றைப் பெற்று, நூற்றினை இழந்துபோகும் '\n",
              "                                 'சூதாடுபவர்க்கும் நல்லதைப் பெற்று வாழம் ஒரு '\n",
              "                                 'வழி உண்டாகுமோ?',\n",
              "                           'transliteration1': 'Ondreydhi Noorizhakkum '\n",
              "                                               'Soodharkkum Untaangol',\n",
              "                           'transliteration2': 'Nandreydhi Vaazhvadhor Aaru'},\n",
              "              'score': 0.235092416,\n",
              "              'values': []}],\n",
              " 'namespace': '',\n",
              " 'usage': {'read_units': 6}}"
            ]
          },
          "metadata": {},
          "execution_count": 68
        }
      ]
    }
  ]
}